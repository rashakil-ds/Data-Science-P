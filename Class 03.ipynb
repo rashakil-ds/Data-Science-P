{
 "cells": [
  {
   "cell_type": "markdown",
   "id": "d5948857",
   "metadata": {},
   "source": [
    "# Tuple"
   ]
  },
  {
   "cell_type": "code",
   "execution_count": 1,
   "id": "4a4e43b0",
   "metadata": {},
   "outputs": [
    {
     "data": {
      "text/plain": [
       "(1, 2, 34, 5, 'ai')"
      ]
     },
     "execution_count": 1,
     "metadata": {},
     "output_type": "execute_result"
    }
   ],
   "source": [
    "tup = (1,2,34,5,'ai')\n",
    "tup"
   ]
  },
  {
   "cell_type": "code",
   "execution_count": 2,
   "id": "babadeb1",
   "metadata": {},
   "outputs": [
    {
     "data": {
      "text/plain": [
       "1"
      ]
     },
     "execution_count": 2,
     "metadata": {},
     "output_type": "execute_result"
    }
   ],
   "source": [
    "tup[0]"
   ]
  },
  {
   "cell_type": "code",
   "execution_count": 3,
   "id": "541b2d9b",
   "metadata": {},
   "outputs": [
    {
     "data": {
      "text/plain": [
       "(2, 34)"
      ]
     },
     "execution_count": 3,
     "metadata": {},
     "output_type": "execute_result"
    }
   ],
   "source": [
    "tup[1:3]"
   ]
  },
  {
   "cell_type": "code",
   "execution_count": 4,
   "id": "3a4f9293",
   "metadata": {},
   "outputs": [
    {
     "ename": "TypeError",
     "evalue": "'tuple' object does not support item assignment",
     "output_type": "error",
     "traceback": [
      "\u001b[1;31m---------------------------------------------------------------------------\u001b[0m",
      "\u001b[1;31mTypeError\u001b[0m                                 Traceback (most recent call last)",
      "\u001b[1;32m<ipython-input-4-97623bf01170>\u001b[0m in \u001b[0;36m<module>\u001b[1;34m\u001b[0m\n\u001b[1;32m----> 1\u001b[1;33m \u001b[0mtup\u001b[0m\u001b[1;33m[\u001b[0m\u001b[1;36m0\u001b[0m\u001b[1;33m]\u001b[0m \u001b[1;33m=\u001b[0m \u001b[1;34m'shakil'\u001b[0m\u001b[1;33m\u001b[0m\u001b[1;33m\u001b[0m\u001b[0m\n\u001b[0m",
      "\u001b[1;31mTypeError\u001b[0m: 'tuple' object does not support item assignment"
     ]
    }
   ],
   "source": [
    "tup[0] = 'shakil'"
   ]
  },
  {
   "cell_type": "code",
   "execution_count": 5,
   "id": "5d8b9a39",
   "metadata": {},
   "outputs": [
    {
     "data": {
      "text/plain": [
       "tuple"
      ]
     },
     "execution_count": 5,
     "metadata": {},
     "output_type": "execute_result"
    }
   ],
   "source": [
    "l = list(tup)\n",
    "type(tup)"
   ]
  },
  {
   "cell_type": "code",
   "execution_count": 6,
   "id": "e0c06cb2",
   "metadata": {},
   "outputs": [
    {
     "data": {
      "text/plain": [
       "list"
      ]
     },
     "execution_count": 6,
     "metadata": {},
     "output_type": "execute_result"
    }
   ],
   "source": [
    "type(l)"
   ]
  },
  {
   "cell_type": "code",
   "execution_count": 7,
   "id": "606668c3",
   "metadata": {},
   "outputs": [],
   "source": [
    "l[0] = 'shakil'"
   ]
  },
  {
   "cell_type": "code",
   "execution_count": 8,
   "id": "93e05298",
   "metadata": {},
   "outputs": [
    {
     "data": {
      "text/plain": [
       "['shakil', 2, 34, 5, 'ai']"
      ]
     },
     "execution_count": 8,
     "metadata": {},
     "output_type": "execute_result"
    }
   ],
   "source": [
    "l"
   ]
  },
  {
   "cell_type": "code",
   "execution_count": 9,
   "id": "f63e0c31",
   "metadata": {},
   "outputs": [],
   "source": [
    "tup2 = tuple(l)"
   ]
  },
  {
   "cell_type": "code",
   "execution_count": 10,
   "id": "3c04f66d",
   "metadata": {},
   "outputs": [
    {
     "data": {
      "text/plain": [
       "tuple"
      ]
     },
     "execution_count": 10,
     "metadata": {},
     "output_type": "execute_result"
    }
   ],
   "source": [
    "type(tup2)"
   ]
  },
  {
   "cell_type": "code",
   "execution_count": 11,
   "id": "c8534a77",
   "metadata": {},
   "outputs": [
    {
     "ename": "TypeError",
     "evalue": "'tuple' object does not support item assignment",
     "output_type": "error",
     "traceback": [
      "\u001b[1;31m---------------------------------------------------------------------------\u001b[0m",
      "\u001b[1;31mTypeError\u001b[0m                                 Traceback (most recent call last)",
      "\u001b[1;32m<ipython-input-11-4a8601cbc6ca>\u001b[0m in \u001b[0;36m<module>\u001b[1;34m\u001b[0m\n\u001b[1;32m----> 1\u001b[1;33m \u001b[0mtup2\u001b[0m\u001b[1;33m[\u001b[0m\u001b[1;36m0\u001b[0m\u001b[1;33m]\u001b[0m \u001b[1;33m=\u001b[0m \u001b[1;34m'ai'\u001b[0m\u001b[1;33m\u001b[0m\u001b[1;33m\u001b[0m\u001b[0m\n\u001b[0m",
      "\u001b[1;31mTypeError\u001b[0m: 'tuple' object does not support item assignment"
     ]
    }
   ],
   "source": [
    "tup2[0] = 'ai'"
   ]
  },
  {
   "cell_type": "code",
   "execution_count": 12,
   "id": "ee88f181",
   "metadata": {},
   "outputs": [
    {
     "data": {
      "text/plain": [
       "(1, 2, 34, 5, 'ai')"
      ]
     },
     "execution_count": 12,
     "metadata": {},
     "output_type": "execute_result"
    }
   ],
   "source": [
    "tup"
   ]
  },
  {
   "cell_type": "code",
   "execution_count": 13,
   "id": "294a888f",
   "metadata": {},
   "outputs": [],
   "source": [
    "tup = tup+(50,)"
   ]
  },
  {
   "cell_type": "code",
   "execution_count": 14,
   "id": "66ceefdc",
   "metadata": {},
   "outputs": [
    {
     "data": {
      "text/plain": [
       "(1, 2, 34, 5, 'ai', 50)"
      ]
     },
     "execution_count": 14,
     "metadata": {},
     "output_type": "execute_result"
    }
   ],
   "source": [
    "tup"
   ]
  },
  {
   "cell_type": "code",
   "execution_count": 15,
   "id": "1485999a",
   "metadata": {},
   "outputs": [],
   "source": [
    "l1 = ['shakil', 2, 34, 5, 5, 'ai']\n",
    "t1 = ('shakil', 2, 34, 5, 5,'ai')"
   ]
  },
  {
   "cell_type": "code",
   "execution_count": 16,
   "id": "8c0ecb40",
   "metadata": {},
   "outputs": [
    {
     "data": {
      "text/plain": [
       "104"
      ]
     },
     "execution_count": 16,
     "metadata": {},
     "output_type": "execute_result"
    }
   ],
   "source": [
    "import sys\n",
    "sys.getsizeof(l1)"
   ]
  },
  {
   "cell_type": "code",
   "execution_count": 17,
   "id": "9bdc0788",
   "metadata": {},
   "outputs": [
    {
     "data": {
      "text/plain": [
       "88"
      ]
     },
     "execution_count": 17,
     "metadata": {},
     "output_type": "execute_result"
    }
   ],
   "source": [
    "sys.getsizeof(t1)"
   ]
  },
  {
   "cell_type": "code",
   "execution_count": 18,
   "id": "76f038d5",
   "metadata": {},
   "outputs": [
    {
     "data": {
      "text/plain": [
       "2"
      ]
     },
     "execution_count": 18,
     "metadata": {},
     "output_type": "execute_result"
    }
   ],
   "source": [
    "t1.count(5)"
   ]
  },
  {
   "cell_type": "code",
   "execution_count": 19,
   "id": "fd24d4a9",
   "metadata": {},
   "outputs": [
    {
     "data": {
      "text/plain": [
       "3"
      ]
     },
     "execution_count": 19,
     "metadata": {},
     "output_type": "execute_result"
    }
   ],
   "source": [
    "t1.index(5)"
   ]
  },
  {
   "cell_type": "code",
   "execution_count": 20,
   "id": "8505309d",
   "metadata": {},
   "outputs": [],
   "source": [
    "x = (50,)"
   ]
  },
  {
   "cell_type": "code",
   "execution_count": 21,
   "id": "a8140819",
   "metadata": {},
   "outputs": [
    {
     "data": {
      "text/plain": [
       "tuple"
      ]
     },
     "execution_count": 21,
     "metadata": {},
     "output_type": "execute_result"
    }
   ],
   "source": [
    "type(x)"
   ]
  },
  {
   "cell_type": "code",
   "execution_count": 22,
   "id": "fee44542",
   "metadata": {},
   "outputs": [],
   "source": [
    "y = [50]"
   ]
  },
  {
   "cell_type": "code",
   "execution_count": 23,
   "id": "f6d1eb10",
   "metadata": {},
   "outputs": [
    {
     "data": {
      "text/plain": [
       "list"
      ]
     },
     "execution_count": 23,
     "metadata": {},
     "output_type": "execute_result"
    }
   ],
   "source": [
    "type(y)"
   ]
  },
  {
   "cell_type": "code",
   "execution_count": 21,
   "id": "efb2b242",
   "metadata": {},
   "outputs": [
    {
     "data": {
      "image/png": "[encoded data removed]",
      "text/plain": [
       "<Figure size 432x288 with 1 Axes>"
      ]
     },
     "metadata": {
      "needs_background": "light"
     },
     "output_type": "display_data"
    }
   ],
   "source": [
    "import matplotlib.pyplot as plt\n",
    "y = [35, 25, 25, 15]\n",
    "z = [1,2,3,4]\n",
    "plt.bar(y,z)\n",
    "plt.show() "
   ]
  },
  {
   "cell_type": "markdown",
   "id": "ec506839",
   "metadata": {},
   "source": [
    "# Set"
   ]
  },
  {
   "cell_type": "code",
   "execution_count": 1,
   "id": "a5edc689",
   "metadata": {},
   "outputs": [
    {
     "ename": "TypeError",
     "evalue": "'set' object is not subscriptable",
     "output_type": "error",
     "traceback": [
      "\u001b[1;31m---------------------------------------------------------------------------\u001b[0m",
      "\u001b[1;31mTypeError\u001b[0m                                 Traceback (most recent call last)",
      "\u001b[1;32m<ipython-input-1-4e2c9edeb950>\u001b[0m in \u001b[0;36m<module>\u001b[1;34m\u001b[0m\n\u001b[0;32m      1\u001b[0m \u001b[0ms1\u001b[0m \u001b[1;33m=\u001b[0m \u001b[1;33m{\u001b[0m\u001b[1;36m1\u001b[0m\u001b[1;33m,\u001b[0m\u001b[1;36m2\u001b[0m\u001b[1;33m,\u001b[0m\u001b[1;36m4\u001b[0m\u001b[1;33m,\u001b[0m\u001b[1;36m6\u001b[0m\u001b[1;33m,\u001b[0m\u001b[1;36m7\u001b[0m\u001b[1;33m,\u001b[0m\u001b[1;36m10\u001b[0m\u001b[1;33m}\u001b[0m\u001b[1;33m\u001b[0m\u001b[1;33m\u001b[0m\u001b[0m\n\u001b[1;32m----> 2\u001b[1;33m \u001b[0ms1\u001b[0m\u001b[1;33m[\u001b[0m\u001b[1;36m2\u001b[0m\u001b[1;33m]\u001b[0m \u001b[1;31m#set()  -> list(s1)\u001b[0m\u001b[1;33m\u001b[0m\u001b[1;33m\u001b[0m\u001b[0m\n\u001b[0m",
      "\u001b[1;31mTypeError\u001b[0m: 'set' object is not subscriptable"
     ]
    }
   ],
   "source": [
    "s1 = {1,2,4,6,7,10}\n",
    "s1[2] #set()  -> list(s1)"
   ]
  },
  {
   "cell_type": "code",
   "execution_count": 25,
   "id": "aaee06b0",
   "metadata": {},
   "outputs": [
    {
     "data": {
      "text/plain": [
       "{1, 2, 4, 6, 7, 10}"
      ]
     },
     "execution_count": 25,
     "metadata": {},
     "output_type": "execute_result"
    }
   ],
   "source": [
    "s1"
   ]
  },
  {
   "cell_type": "code",
   "execution_count": 4,
   "id": "29cd0bfc",
   "metadata": {},
   "outputs": [
    {
     "name": "stdout",
     "output_type": "stream",
     "text": [
      "1\n",
      "2\n",
      "4\n",
      "6\n",
      "7\n",
      "10\n"
     ]
    }
   ],
   "source": [
    "for N in s1:\n",
    "    print(N)"
   ]
  },
  {
   "cell_type": "code",
   "execution_count": 27,
   "id": "4275fec6",
   "metadata": {},
   "outputs": [
    {
     "name": "stdout",
     "output_type": "stream",
     "text": [
      "No\n"
     ]
    }
   ],
   "source": [
    "if 12 in s1:\n",
    "    print('OK')\n",
    "else:\n",
    "    print('No')"
   ]
  },
  {
   "cell_type": "code",
   "execution_count": 28,
   "id": "850a86c7",
   "metadata": {},
   "outputs": [
    {
     "data": {
      "text/plain": [
       "{1, 2, 4, 6, 7, 10}"
      ]
     },
     "execution_count": 28,
     "metadata": {},
     "output_type": "execute_result"
    }
   ],
   "source": [
    "s1 = {1,2,2,4,6,7,10}\n",
    "s1"
   ]
  },
  {
   "cell_type": "code",
   "execution_count": 29,
   "id": "7e336e68",
   "metadata": {},
   "outputs": [],
   "source": [
    "s1.add('Rajen')"
   ]
  },
  {
   "cell_type": "code",
   "execution_count": 30,
   "id": "d1d253be",
   "metadata": {},
   "outputs": [
    {
     "data": {
      "text/plain": [
       "{1, 10, 2, 4, 6, 7, 'Rajen'}"
      ]
     },
     "execution_count": 30,
     "metadata": {},
     "output_type": "execute_result"
    }
   ],
   "source": [
    "s1"
   ]
  },
  {
   "cell_type": "code",
   "execution_count": 31,
   "id": "55be9338",
   "metadata": {},
   "outputs": [],
   "source": [
    "l2 = list(s1)"
   ]
  },
  {
   "cell_type": "code",
   "execution_count": 32,
   "id": "7decec04",
   "metadata": {},
   "outputs": [
    {
     "data": {
      "text/plain": [
       "[1, 2, 4, 6, 7, 10, 'Rajen']"
      ]
     },
     "execution_count": 32,
     "metadata": {},
     "output_type": "execute_result"
    }
   ],
   "source": [
    "l2"
   ]
  },
  {
   "cell_type": "code",
   "execution_count": 33,
   "id": "4cb0cb49",
   "metadata": {},
   "outputs": [],
   "source": [
    "l2.append('TAREQ')"
   ]
  },
  {
   "cell_type": "code",
   "execution_count": 34,
   "id": "40f8b8bb",
   "metadata": {},
   "outputs": [
    {
     "data": {
      "text/plain": [
       "[1, 2, 4, 6, 7, 10, 'Rajen', 'TAREQ']"
      ]
     },
     "execution_count": 34,
     "metadata": {},
     "output_type": "execute_result"
    }
   ],
   "source": [
    "l2"
   ]
  },
  {
   "cell_type": "code",
   "execution_count": 35,
   "id": "bdcd3950",
   "metadata": {},
   "outputs": [
    {
     "data": {
      "text/plain": [
       "[1, 2, 4, 6, 7, 10, 'Rajen', 'TAREQ']"
      ]
     },
     "execution_count": 35,
     "metadata": {},
     "output_type": "execute_result"
    }
   ],
   "source": [
    "l2"
   ]
  },
  {
   "cell_type": "code",
   "execution_count": 36,
   "id": "34391777",
   "metadata": {},
   "outputs": [],
   "source": [
    "l2.insert(3,'ai')"
   ]
  },
  {
   "cell_type": "code",
   "execution_count": 37,
   "id": "eb10c8df",
   "metadata": {},
   "outputs": [
    {
     "data": {
      "text/plain": [
       "[1, 2, 4, 'ai', 6, 7, 10, 'Rajen', 'TAREQ']"
      ]
     },
     "execution_count": 37,
     "metadata": {},
     "output_type": "execute_result"
    }
   ],
   "source": [
    "l2"
   ]
  },
  {
   "cell_type": "code",
   "execution_count": 38,
   "id": "1c00561a",
   "metadata": {},
   "outputs": [],
   "source": [
    "l2.append(15)"
   ]
  },
  {
   "cell_type": "code",
   "execution_count": 39,
   "id": "2c27606f",
   "metadata": {},
   "outputs": [
    {
     "data": {
      "text/plain": [
       "[1, 2, 4, 'ai', 6, 7, 10, 'Rajen', 'TAREQ', 15]"
      ]
     },
     "execution_count": 39,
     "metadata": {},
     "output_type": "execute_result"
    }
   ],
   "source": [
    "l2"
   ]
  },
  {
   "cell_type": "code",
   "execution_count": 40,
   "id": "8d1aa079",
   "metadata": {},
   "outputs": [],
   "source": [
    "l5 = [2,8,2,3]"
   ]
  },
  {
   "cell_type": "code",
   "execution_count": 41,
   "id": "37c15ae3",
   "metadata": {},
   "outputs": [],
   "source": [
    "l5.append(1)"
   ]
  },
  {
   "cell_type": "code",
   "execution_count": 42,
   "id": "f3ee90c7",
   "metadata": {},
   "outputs": [
    {
     "data": {
      "text/plain": [
       "[2, 8, 2, 3, 1]"
      ]
     },
     "execution_count": 42,
     "metadata": {},
     "output_type": "execute_result"
    }
   ],
   "source": [
    "l5"
   ]
  },
  {
   "cell_type": "code",
   "execution_count": 43,
   "id": "de87dbfd",
   "metadata": {},
   "outputs": [],
   "source": [
    "l5.insert(3,40)"
   ]
  },
  {
   "cell_type": "code",
   "execution_count": 44,
   "id": "3da51232",
   "metadata": {},
   "outputs": [
    {
     "data": {
      "text/plain": [
       "[2, 8, 2, 40, 3, 1]"
      ]
     },
     "execution_count": 44,
     "metadata": {},
     "output_type": "execute_result"
    }
   ],
   "source": [
    "l5"
   ]
  },
  {
   "cell_type": "code",
   "execution_count": 45,
   "id": "5c13a6d9",
   "metadata": {
    "scrolled": true
   },
   "outputs": [
    {
     "data": {
      "text/plain": [
       "728"
      ]
     },
     "execution_count": 45,
     "metadata": {},
     "output_type": "execute_result"
    }
   ],
   "source": [
    "l1 = ['shakil', 2, 34, 5, 5, 'ai']\n",
    "t1 = ('shakil', 2, 34, 5, 5,'ai')\n",
    "s1 = {'shakil', 2, 34, 5, 5,'ai'}\n",
    "\n",
    "sys.getsizeof(s1)"
   ]
  },
  {
   "cell_type": "code",
   "execution_count": 46,
   "id": "f15e7534",
   "metadata": {},
   "outputs": [
    {
     "data": {
      "text/plain": [
       "{2, 34, 5, 'ai', 'shakil'}"
      ]
     },
     "execution_count": 46,
     "metadata": {},
     "output_type": "execute_result"
    }
   ],
   "source": [
    "s1"
   ]
  },
  {
   "cell_type": "code",
   "execution_count": 47,
   "id": "517aef7d",
   "metadata": {},
   "outputs": [],
   "source": [
    "s2 = {30,'ai'}\n",
    "\n",
    "s1.update(s2)"
   ]
  },
  {
   "cell_type": "code",
   "execution_count": 48,
   "id": "cb1c1e79",
   "metadata": {},
   "outputs": [
    {
     "data": {
      "text/plain": [
       "{2, 30, 34, 5, 'ai', 'shakil'}"
      ]
     },
     "execution_count": 48,
     "metadata": {},
     "output_type": "execute_result"
    }
   ],
   "source": [
    "s1"
   ]
  },
  {
   "cell_type": "code",
   "execution_count": 49,
   "id": "f6f1c8d1",
   "metadata": {},
   "outputs": [
    {
     "name": "stdout",
     "output_type": "stream",
     "text": [
      "ok\n"
     ]
    }
   ],
   "source": [
    "if 'ai' in s1:\n",
    "    print('ok')"
   ]
  },
  {
   "cell_type": "code",
   "execution_count": 50,
   "id": "ca129805",
   "metadata": {},
   "outputs": [],
   "source": [
    "#set operation\n",
    "\n",
    "s2 = s2.union(s1)"
   ]
  },
  {
   "cell_type": "code",
   "execution_count": 51,
   "id": "9313c7a7",
   "metadata": {},
   "outputs": [
    {
     "data": {
      "text/plain": [
       "{2, 30, 34, 5, 'ai', 'shakil'}"
      ]
     },
     "execution_count": 51,
     "metadata": {},
     "output_type": "execute_result"
    }
   ],
   "source": [
    "s2"
   ]
  },
  {
   "cell_type": "code",
   "execution_count": 52,
   "id": "420f0260",
   "metadata": {},
   "outputs": [],
   "source": [
    "s3 = {5,'ai',10}"
   ]
  },
  {
   "cell_type": "code",
   "execution_count": 53,
   "id": "209c260f",
   "metadata": {},
   "outputs": [],
   "source": [
    "s2 = s2.intersection(s3)"
   ]
  },
  {
   "cell_type": "code",
   "execution_count": 54,
   "id": "1cedb34c",
   "metadata": {},
   "outputs": [
    {
     "data": {
      "text/plain": [
       "{5, 'ai'}"
      ]
     },
     "execution_count": 54,
     "metadata": {},
     "output_type": "execute_result"
    }
   ],
   "source": [
    "s2"
   ]
  },
  {
   "cell_type": "code",
   "execution_count": 55,
   "id": "debd7c2b",
   "metadata": {},
   "outputs": [
    {
     "data": {
      "text/plain": [
       "{10, 2, 30, 34, 5, 'ai', 'shakil'}"
      ]
     },
     "execution_count": 55,
     "metadata": {},
     "output_type": "execute_result"
    }
   ],
   "source": [
    "s1 | s3 #union sign"
   ]
  },
  {
   "cell_type": "code",
   "execution_count": 56,
   "id": "46b86dd4",
   "metadata": {},
   "outputs": [
    {
     "data": {
      "text/plain": [
       "{5, 'ai'}"
      ]
     },
     "execution_count": 56,
     "metadata": {},
     "output_type": "execute_result"
    }
   ],
   "source": [
    "s2"
   ]
  },
  {
   "cell_type": "code",
   "execution_count": 57,
   "id": "c95c4a64",
   "metadata": {},
   "outputs": [
    {
     "data": {
      "text/plain": [
       "'ai'"
      ]
     },
     "execution_count": 57,
     "metadata": {},
     "output_type": "execute_result"
    }
   ],
   "source": [
    "s2.pop()"
   ]
  },
  {
   "cell_type": "code",
   "execution_count": 58,
   "id": "b09d8d58",
   "metadata": {},
   "outputs": [
    {
     "data": {
      "text/plain": [
       "{5}"
      ]
     },
     "execution_count": 58,
     "metadata": {},
     "output_type": "execute_result"
    }
   ],
   "source": [
    "s2"
   ]
  },
  {
   "cell_type": "code",
   "execution_count": 59,
   "id": "e342f7a9",
   "metadata": {},
   "outputs": [],
   "source": [
    "s2.clear()"
   ]
  },
  {
   "cell_type": "code",
   "execution_count": 60,
   "id": "d5a9d5d0",
   "metadata": {},
   "outputs": [
    {
     "data": {
      "text/plain": [
       "set()"
      ]
     },
     "execution_count": 60,
     "metadata": {},
     "output_type": "execute_result"
    }
   ],
   "source": [
    "s2"
   ]
  },
  {
   "cell_type": "markdown",
   "id": "a3b893e1",
   "metadata": {},
   "source": [
    "# Array"
   ]
  },
  {
   "cell_type": "code",
   "execution_count": 61,
   "id": "b58c6422",
   "metadata": {},
   "outputs": [],
   "source": [
    "l4 = ['all',4,5,True]"
   ]
  },
  {
   "cell_type": "code",
   "execution_count": 62,
   "id": "99803fc6",
   "metadata": {},
   "outputs": [],
   "source": [
    "import array as arr\n",
    "\n",
    "a1 = arr.array('f',[1,2,3,1.5])"
   ]
  },
  {
   "cell_type": "code",
   "execution_count": 63,
   "id": "a6a0f77a",
   "metadata": {},
   "outputs": [
    {
     "data": {
      "text/plain": [
       "array('f', [1.0, 2.0, 3.0, 1.5])"
      ]
     },
     "execution_count": 63,
     "metadata": {},
     "output_type": "execute_result"
    }
   ],
   "source": [
    "a1"
   ]
  },
  {
   "cell_type": "code",
   "execution_count": 64,
   "id": "4690fe71",
   "metadata": {},
   "outputs": [],
   "source": [
    "a1.insert(4,10)"
   ]
  },
  {
   "cell_type": "code",
   "execution_count": 65,
   "id": "8dc206b8",
   "metadata": {},
   "outputs": [
    {
     "data": {
      "text/plain": [
       "array('f', [1.0, 2.0, 3.0, 1.5, 10.0])"
      ]
     },
     "execution_count": 65,
     "metadata": {},
     "output_type": "execute_result"
    }
   ],
   "source": [
    "a1"
   ]
  },
  {
   "cell_type": "code",
   "execution_count": 66,
   "id": "85cfe95d",
   "metadata": {},
   "outputs": [],
   "source": [
    "a1.remove(10)"
   ]
  },
  {
   "cell_type": "code",
   "execution_count": 67,
   "id": "d7b59a65",
   "metadata": {},
   "outputs": [
    {
     "data": {
      "text/plain": [
       "array('f', [1.0, 2.0, 3.0, 1.5])"
      ]
     },
     "execution_count": 67,
     "metadata": {},
     "output_type": "execute_result"
    }
   ],
   "source": [
    "a1"
   ]
  },
  {
   "cell_type": "markdown",
   "id": "a175aed8",
   "metadata": {},
   "source": [
    "# Numpy"
   ]
  },
  {
   "cell_type": "code",
   "execution_count": 68,
   "id": "cc2c77de",
   "metadata": {},
   "outputs": [
    {
     "data": {
      "text/plain": [
       "array([0, 1, 2, 3, 4, 5, 6, 7, 8, 9])"
      ]
     },
     "execution_count": 68,
     "metadata": {},
     "output_type": "execute_result"
    }
   ],
   "source": [
    "import numpy as np\n",
    "a2 = np.arange(10)\n",
    "a2"
   ]
  },
  {
   "cell_type": "code",
   "execution_count": 69,
   "id": "862b8940",
   "metadata": {},
   "outputs": [
    {
     "data": {
      "text/plain": [
       "numpy.ndarray"
      ]
     },
     "execution_count": 69,
     "metadata": {},
     "output_type": "execute_result"
    }
   ],
   "source": [
    "type(a2)"
   ]
  },
  {
   "cell_type": "code",
   "execution_count": 70,
   "id": "79f738d2",
   "metadata": {},
   "outputs": [
    {
     "data": {
      "text/plain": [
       "array([[[ 0,  1],\n",
       "        [ 2,  3],\n",
       "        [ 4,  5]],\n",
       "\n",
       "       [[ 6,  7],\n",
       "        [ 8,  9],\n",
       "        [10, 11]]])"
      ]
     },
     "execution_count": 70,
     "metadata": {},
     "output_type": "execute_result"
    }
   ],
   "source": [
    "a3 = np.arange(12).reshape(2,3,2)\n",
    "a3"
   ]
  },
  {
   "cell_type": "code",
   "execution_count": 71,
   "id": "3a0eb26f",
   "metadata": {},
   "outputs": [
    {
     "data": {
      "text/plain": [
       "3"
      ]
     },
     "execution_count": 71,
     "metadata": {},
     "output_type": "execute_result"
    }
   ],
   "source": [
    "a3.ndim"
   ]
  },
  {
   "cell_type": "markdown",
   "id": "4e5edc97",
   "metadata": {},
   "source": [
    "# Dictionary"
   ]
  },
  {
   "cell_type": "code",
   "execution_count": 72,
   "id": "ec0b1abd",
   "metadata": {},
   "outputs": [],
   "source": [
    "d1 = {\n",
    "    'name':['Touhidul Islam','HASIBUL'],\n",
    "    'age' : [25],\n",
    "    'varsity' : ['EWU','VARSITY']\n",
    "}"
   ]
  },
  {
   "cell_type": "code",
   "execution_count": 73,
   "id": "e1607d5f",
   "metadata": {},
   "outputs": [
    {
     "data": {
      "text/plain": [
       "dict"
      ]
     },
     "execution_count": 73,
     "metadata": {},
     "output_type": "execute_result"
    }
   ],
   "source": [
    "type(d1)"
   ]
  },
  {
   "cell_type": "code",
   "execution_count": 74,
   "id": "4367c975",
   "metadata": {},
   "outputs": [
    {
     "data": {
      "text/plain": [
       "['Touhidul Islam', 'HASIBUL']"
      ]
     },
     "execution_count": 74,
     "metadata": {},
     "output_type": "execute_result"
    }
   ],
   "source": [
    "d1['name']"
   ]
  },
  {
   "cell_type": "code",
   "execution_count": 75,
   "id": "50c5c8dd",
   "metadata": {},
   "outputs": [
    {
     "data": {
      "text/plain": [
       "[25]"
      ]
     },
     "execution_count": 75,
     "metadata": {},
     "output_type": "execute_result"
    }
   ],
   "source": [
    "d1['age']"
   ]
  },
  {
   "cell_type": "code",
   "execution_count": 76,
   "id": "cd7dfb85",
   "metadata": {},
   "outputs": [
    {
     "data": {
      "text/plain": [
       "['EWU', 'VARSITY']"
      ]
     },
     "execution_count": 76,
     "metadata": {},
     "output_type": "execute_result"
    }
   ],
   "source": [
    "d1['varsity']"
   ]
  },
  {
   "cell_type": "code",
   "execution_count": 77,
   "id": "309e3f28",
   "metadata": {},
   "outputs": [
    {
     "data": {
      "text/plain": [
       "dict_keys(['name', 'age', 'varsity'])"
      ]
     },
     "execution_count": 77,
     "metadata": {},
     "output_type": "execute_result"
    }
   ],
   "source": [
    "d1.keys()"
   ]
  },
  {
   "cell_type": "code",
   "execution_count": 78,
   "id": "7e39164c",
   "metadata": {},
   "outputs": [
    {
     "data": {
      "text/plain": [
       "dict_values([['Touhidul Islam', 'HASIBUL'], [25], ['EWU', 'VARSITY']])"
      ]
     },
     "execution_count": 78,
     "metadata": {},
     "output_type": "execute_result"
    }
   ],
   "source": [
    "d1.values()"
   ]
  },
  {
   "cell_type": "code",
   "execution_count": 79,
   "id": "b569e7cc",
   "metadata": {},
   "outputs": [],
   "source": [
    "#change\n",
    "d1['age'] = [25,26]"
   ]
  },
  {
   "cell_type": "code",
   "execution_count": 80,
   "id": "e4cb1c76",
   "metadata": {},
   "outputs": [
    {
     "data": {
      "text/plain": [
       "{'name': ['Touhidul Islam', 'HASIBUL'],\n",
       " 'age': [25, 26],\n",
       " 'varsity': ['EWU', 'VARSITY']}"
      ]
     },
     "execution_count": 80,
     "metadata": {},
     "output_type": "execute_result"
    }
   ],
   "source": [
    "d1"
   ]
  },
  {
   "cell_type": "code",
   "execution_count": 81,
   "id": "8dc0235d",
   "metadata": {},
   "outputs": [],
   "source": [
    "d1.update({'age':[27,28]})"
   ]
  },
  {
   "cell_type": "code",
   "execution_count": 82,
   "id": "cddb169a",
   "metadata": {},
   "outputs": [
    {
     "data": {
      "text/plain": [
       "{'name': ['Touhidul Islam', 'HASIBUL'],\n",
       " 'age': [27, 28],\n",
       " 'varsity': ['EWU', 'VARSITY']}"
      ]
     },
     "execution_count": 82,
     "metadata": {},
     "output_type": "execute_result"
    }
   ],
   "source": [
    "d1"
   ]
  },
  {
   "cell_type": "code",
   "execution_count": 83,
   "id": "26d79d2c",
   "metadata": {},
   "outputs": [],
   "source": [
    "d1['dept'] = ['cse','eee'] #ADD"
   ]
  },
  {
   "cell_type": "code",
   "execution_count": 84,
   "id": "122051d1",
   "metadata": {},
   "outputs": [
    {
     "data": {
      "text/plain": [
       "{'name': ['Touhidul Islam', 'HASIBUL'],\n",
       " 'age': [27, 28],\n",
       " 'varsity': ['EWU', 'VARSITY'],\n",
       " 'dept': ['cse', 'eee']}"
      ]
     },
     "execution_count": 84,
     "metadata": {},
     "output_type": "execute_result"
    }
   ],
   "source": [
    "d1"
   ]
  },
  {
   "cell_type": "code",
   "execution_count": 85,
   "id": "f0d45fb6",
   "metadata": {},
   "outputs": [
    {
     "data": {
      "text/plain": [
       "[27, 28]"
      ]
     },
     "execution_count": 85,
     "metadata": {},
     "output_type": "execute_result"
    }
   ],
   "source": [
    "d1.pop('age') #delete "
   ]
  },
  {
   "cell_type": "code",
   "execution_count": 86,
   "id": "ca22d606",
   "metadata": {},
   "outputs": [
    {
     "data": {
      "text/plain": [
       "{'name': ['Touhidul Islam', 'HASIBUL'],\n",
       " 'varsity': ['EWU', 'VARSITY'],\n",
       " 'dept': ['cse', 'eee']}"
      ]
     },
     "execution_count": 86,
     "metadata": {},
     "output_type": "execute_result"
    }
   ],
   "source": [
    "d1"
   ]
  },
  {
   "cell_type": "markdown",
   "id": "60964500",
   "metadata": {},
   "source": [
    "# Data Frame"
   ]
  },
  {
   "cell_type": "code",
   "execution_count": 87,
   "id": "729db2e7",
   "metadata": {},
   "outputs": [
    {
     "data": {
      "text/plain": [
       "{'name': ['Touhidul Islam', 'HASIBUL'],\n",
       " 'varsity': ['EWU', 'VARSITY'],\n",
       " 'dept': ['cse', 'eee']}"
      ]
     },
     "execution_count": 87,
     "metadata": {},
     "output_type": "execute_result"
    }
   ],
   "source": [
    "d1"
   ]
  },
  {
   "cell_type": "code",
   "execution_count": 88,
   "id": "d70372a3",
   "metadata": {},
   "outputs": [],
   "source": [
    "#pandas\n",
    "#vaex\n",
    "import pandas as pd\n",
    "\n",
    "df = pd.DataFrame(d1)"
   ]
  },
  {
   "cell_type": "code",
   "execution_count": 89,
   "id": "aa3ead44",
   "metadata": {},
   "outputs": [
    {
     "data": {
      "text/html": [
       "<div>\n",
       "<style scoped>\n",
       "    .dataframe tbody tr th:only-of-type {\n",
       "        vertical-align: middle;\n",
       "    }\n",
       "\n",
       "    .dataframe tbody tr th {\n",
       "        vertical-align: top;\n",
       "    }\n",
       "\n",
       "    .dataframe thead th {\n",
       "        text-align: right;\n",
       "    }\n",
       "</style>\n",
       "<table border=\"1\" class=\"dataframe\">\n",
       "  <thead>\n",
       "    <tr style=\"text-align: right;\">\n",
       "      <th></th>\n",
       "      <th>name</th>\n",
       "      <th>varsity</th>\n",
       "      <th>dept</th>\n",
       "    </tr>\n",
       "  </thead>\n",
       "  <tbody>\n",
       "    <tr>\n",
       "      <th>0</th>\n",
       "      <td>Touhidul Islam</td>\n",
       "      <td>EWU</td>\n",
       "      <td>cse</td>\n",
       "    </tr>\n",
       "    <tr>\n",
       "      <th>1</th>\n",
       "      <td>HASIBUL</td>\n",
       "      <td>VARSITY</td>\n",
       "      <td>eee</td>\n",
       "    </tr>\n",
       "  </tbody>\n",
       "</table>\n",
       "</div>"
      ],
      "text/plain": [
       "             name  varsity dept\n",
       "0  Touhidul Islam      EWU  cse\n",
       "1         HASIBUL  VARSITY  eee"
      ]
     },
     "execution_count": 89,
     "metadata": {},
     "output_type": "execute_result"
    }
   ],
   "source": [
    "df"
   ]
  },
  {
   "cell_type": "code",
   "execution_count": 90,
   "id": "570b84c5",
   "metadata": {},
   "outputs": [
    {
     "data": {
      "text/plain": [
       "0    Touhidul Islam\n",
       "1           HASIBUL\n",
       "Name: name, dtype: object"
      ]
     },
     "execution_count": 90,
     "metadata": {},
     "output_type": "execute_result"
    }
   ],
   "source": [
    "df['name']"
   ]
  },
  {
   "cell_type": "code",
   "execution_count": 91,
   "id": "5b490d7d",
   "metadata": {},
   "outputs": [],
   "source": [
    "df['my'] = [1,2]"
   ]
  },
  {
   "cell_type": "code",
   "execution_count": 92,
   "id": "7e1a610b",
   "metadata": {},
   "outputs": [
    {
     "data": {
      "text/html": [
       "<div>\n",
       "<style scoped>\n",
       "    .dataframe tbody tr th:only-of-type {\n",
       "        vertical-align: middle;\n",
       "    }\n",
       "\n",
       "    .dataframe tbody tr th {\n",
       "        vertical-align: top;\n",
       "    }\n",
       "\n",
       "    .dataframe thead th {\n",
       "        text-align: right;\n",
       "    }\n",
       "</style>\n",
       "<table border=\"1\" class=\"dataframe\">\n",
       "  <thead>\n",
       "    <tr style=\"text-align: right;\">\n",
       "      <th></th>\n",
       "      <th>name</th>\n",
       "      <th>varsity</th>\n",
       "      <th>dept</th>\n",
       "      <th>my</th>\n",
       "    </tr>\n",
       "  </thead>\n",
       "  <tbody>\n",
       "    <tr>\n",
       "      <th>0</th>\n",
       "      <td>Touhidul Islam</td>\n",
       "      <td>EWU</td>\n",
       "      <td>cse</td>\n",
       "      <td>1</td>\n",
       "    </tr>\n",
       "    <tr>\n",
       "      <th>1</th>\n",
       "      <td>HASIBUL</td>\n",
       "      <td>VARSITY</td>\n",
       "      <td>eee</td>\n",
       "      <td>2</td>\n",
       "    </tr>\n",
       "  </tbody>\n",
       "</table>\n",
       "</div>"
      ],
      "text/plain": [
       "             name  varsity dept  my\n",
       "0  Touhidul Islam      EWU  cse   1\n",
       "1         HASIBUL  VARSITY  eee   2"
      ]
     },
     "execution_count": 92,
     "metadata": {},
     "output_type": "execute_result"
    }
   ],
   "source": [
    "df"
   ]
  },
  {
   "cell_type": "code",
   "execution_count": 93,
   "id": "52f5955a",
   "metadata": {},
   "outputs": [
    {
     "data": {
      "text/html": [
       "<div>\n",
       "<style scoped>\n",
       "    .dataframe tbody tr th:only-of-type {\n",
       "        vertical-align: middle;\n",
       "    }\n",
       "\n",
       "    .dataframe tbody tr th {\n",
       "        vertical-align: top;\n",
       "    }\n",
       "\n",
       "    .dataframe thead th {\n",
       "        text-align: right;\n",
       "    }\n",
       "</style>\n",
       "<table border=\"1\" class=\"dataframe\">\n",
       "  <thead>\n",
       "    <tr style=\"text-align: right;\">\n",
       "      <th></th>\n",
       "      <th>name</th>\n",
       "      <th>varsity</th>\n",
       "      <th>dept</th>\n",
       "    </tr>\n",
       "  </thead>\n",
       "  <tbody>\n",
       "    <tr>\n",
       "      <th>0</th>\n",
       "      <td>Touhidul Islam</td>\n",
       "      <td>EWU</td>\n",
       "      <td>cse</td>\n",
       "    </tr>\n",
       "    <tr>\n",
       "      <th>1</th>\n",
       "      <td>HASIBUL</td>\n",
       "      <td>VARSITY</td>\n",
       "      <td>eee</td>\n",
       "    </tr>\n",
       "  </tbody>\n",
       "</table>\n",
       "</div>"
      ],
      "text/plain": [
       "             name  varsity dept\n",
       "0  Touhidul Islam      EWU  cse\n",
       "1         HASIBUL  VARSITY  eee"
      ]
     },
     "execution_count": 93,
     "metadata": {},
     "output_type": "execute_result"
    }
   ],
   "source": [
    "df = df.drop('my',axis=1)\n",
    "df.head()"
   ]
  },
  {
   "cell_type": "code",
   "execution_count": 94,
   "id": "76d7e6b0",
   "metadata": {},
   "outputs": [
    {
     "data": {
      "text/plain": [
       "(2, 3)"
      ]
     },
     "execution_count": 94,
     "metadata": {},
     "output_type": "execute_result"
    }
   ],
   "source": [
    "df.shape"
   ]
  },
  {
   "cell_type": "code",
   "execution_count": 95,
   "id": "2623fce6",
   "metadata": {},
   "outputs": [
    {
     "data": {
      "text/html": [
       "<div>\n",
       "<style scoped>\n",
       "    .dataframe tbody tr th:only-of-type {\n",
       "        vertical-align: middle;\n",
       "    }\n",
       "\n",
       "    .dataframe tbody tr th {\n",
       "        vertical-align: top;\n",
       "    }\n",
       "\n",
       "    .dataframe thead th {\n",
       "        text-align: right;\n",
       "    }\n",
       "</style>\n",
       "<table border=\"1\" class=\"dataframe\">\n",
       "  <thead>\n",
       "    <tr style=\"text-align: right;\">\n",
       "      <th></th>\n",
       "      <th>name</th>\n",
       "      <th>varsity</th>\n",
       "      <th>dept</th>\n",
       "    </tr>\n",
       "  </thead>\n",
       "  <tbody>\n",
       "    <tr>\n",
       "      <th>0</th>\n",
       "      <td>Touhidul Islam</td>\n",
       "      <td>EWU</td>\n",
       "      <td>cse</td>\n",
       "    </tr>\n",
       "    <tr>\n",
       "      <th>1</th>\n",
       "      <td>HASIBUL</td>\n",
       "      <td>VARSITY</td>\n",
       "      <td>eee</td>\n",
       "    </tr>\n",
       "  </tbody>\n",
       "</table>\n",
       "</div>"
      ],
      "text/plain": [
       "             name  varsity dept\n",
       "0  Touhidul Islam      EWU  cse\n",
       "1         HASIBUL  VARSITY  eee"
      ]
     },
     "execution_count": 95,
     "metadata": {},
     "output_type": "execute_result"
    }
   ],
   "source": [
    "df"
   ]
  },
  {
   "cell_type": "code",
   "execution_count": 98,
   "id": "ed28067f",
   "metadata": {},
   "outputs": [
    {
     "data": {
      "text/html": [
       "<div>\n",
       "<style scoped>\n",
       "    .dataframe tbody tr th:only-of-type {\n",
       "        vertical-align: middle;\n",
       "    }\n",
       "\n",
       "    .dataframe tbody tr th {\n",
       "        vertical-align: top;\n",
       "    }\n",
       "\n",
       "    .dataframe thead th {\n",
       "        text-align: right;\n",
       "    }\n",
       "</style>\n",
       "<table border=\"1\" class=\"dataframe\">\n",
       "  <thead>\n",
       "    <tr style=\"text-align: right;\">\n",
       "      <th></th>\n",
       "      <th>NAME</th>\n",
       "      <th>AGE</th>\n",
       "    </tr>\n",
       "  </thead>\n",
       "  <tbody>\n",
       "    <tr>\n",
       "      <th>0</th>\n",
       "      <td>ABC</td>\n",
       "      <td>20</td>\n",
       "    </tr>\n",
       "    <tr>\n",
       "      <th>1</th>\n",
       "      <td>CDF</td>\n",
       "      <td>35</td>\n",
       "    </tr>\n",
       "  </tbody>\n",
       "</table>\n",
       "</div>"
      ],
      "text/plain": [
       "  NAME  AGE\n",
       "0  ABC   20\n",
       "1  CDF   35"
      ]
     },
     "execution_count": 98,
     "metadata": {},
     "output_type": "execute_result"
    }
   ],
   "source": [
    "df= pd.read_excel('DATA.xlsx')\n",
    "df.head()"
   ]
  },
  {
   "cell_type": "code",
   "execution_count": 99,
   "id": "9c28b12e",
   "metadata": {},
   "outputs": [
    {
     "data": {
      "text/html": [
       "<div>\n",
       "<style scoped>\n",
       "    .dataframe tbody tr th:only-of-type {\n",
       "        vertical-align: middle;\n",
       "    }\n",
       "\n",
       "    .dataframe tbody tr th {\n",
       "        vertical-align: top;\n",
       "    }\n",
       "\n",
       "    .dataframe thead th {\n",
       "        text-align: right;\n",
       "    }\n",
       "</style>\n",
       "<table border=\"1\" class=\"dataframe\">\n",
       "  <thead>\n",
       "    <tr style=\"text-align: right;\">\n",
       "      <th></th>\n",
       "      <th>NAME</th>\n",
       "      <th>AGE</th>\n",
       "    </tr>\n",
       "  </thead>\n",
       "  <tbody>\n",
       "    <tr>\n",
       "      <th>0</th>\n",
       "      <td>ABC</td>\n",
       "      <td>20</td>\n",
       "    </tr>\n",
       "    <tr>\n",
       "      <th>1</th>\n",
       "      <td>CDF</td>\n",
       "      <td>35</td>\n",
       "    </tr>\n",
       "  </tbody>\n",
       "</table>\n",
       "</div>"
      ],
      "text/plain": [
       "  NAME  AGE\n",
       "0  ABC   20\n",
       "1  CDF   35"
      ]
     },
     "execution_count": 99,
     "metadata": {},
     "output_type": "execute_result"
    }
   ],
   "source": [
    "df2= pd.read_csv('DATA.csv')\n",
    "df2.head()"
   ]
  },
  {
   "cell_type": "code",
   "execution_count": 100,
   "id": "92510d07",
   "metadata": {},
   "outputs": [],
   "source": [
    "df3 = pd.concat([df,df2])"
   ]
  },
  {
   "cell_type": "code",
   "execution_count": 101,
   "id": "9381f5ca",
   "metadata": {},
   "outputs": [
    {
     "data": {
      "text/html": [
       "<div>\n",
       "<style scoped>\n",
       "    .dataframe tbody tr th:only-of-type {\n",
       "        vertical-align: middle;\n",
       "    }\n",
       "\n",
       "    .dataframe tbody tr th {\n",
       "        vertical-align: top;\n",
       "    }\n",
       "\n",
       "    .dataframe thead th {\n",
       "        text-align: right;\n",
       "    }\n",
       "</style>\n",
       "<table border=\"1\" class=\"dataframe\">\n",
       "  <thead>\n",
       "    <tr style=\"text-align: right;\">\n",
       "      <th></th>\n",
       "      <th>NAME</th>\n",
       "      <th>AGE</th>\n",
       "    </tr>\n",
       "  </thead>\n",
       "  <tbody>\n",
       "    <tr>\n",
       "      <th>0</th>\n",
       "      <td>ABC</td>\n",
       "      <td>20</td>\n",
       "    </tr>\n",
       "    <tr>\n",
       "      <th>1</th>\n",
       "      <td>CDF</td>\n",
       "      <td>35</td>\n",
       "    </tr>\n",
       "    <tr>\n",
       "      <th>0</th>\n",
       "      <td>ABC</td>\n",
       "      <td>20</td>\n",
       "    </tr>\n",
       "    <tr>\n",
       "      <th>1</th>\n",
       "      <td>CDF</td>\n",
       "      <td>35</td>\n",
       "    </tr>\n",
       "  </tbody>\n",
       "</table>\n",
       "</div>"
      ],
      "text/plain": [
       "  NAME  AGE\n",
       "0  ABC   20\n",
       "1  CDF   35\n",
       "0  ABC   20\n",
       "1  CDF   35"
      ]
     },
     "execution_count": 101,
     "metadata": {},
     "output_type": "execute_result"
    }
   ],
   "source": [
    "df3"
   ]
  },
  {
   "cell_type": "code",
   "execution_count": null,
   "id": "dbbd1234",
   "metadata": {},
   "outputs": [],
   "source": []
  }
 ],
 "metadata": {
  "kernelspec": {
   "display_name": "Python 3",
   "language": "python",
   "name": "python3"
  },
  "language_info": {
   "codemirror_mode": {
    "name": "ipython",
    "version": 3
   },
   "file_extension": ".py",
   "mimetype": "text/x-python",
   "name": "python",
   "nbconvert_exporter": "python",
   "pygments_lexer": "ipython3",
   "version": "3.8.8"
  }
 },
 "nbformat": 4,
 "nbformat_minor": 5
}
