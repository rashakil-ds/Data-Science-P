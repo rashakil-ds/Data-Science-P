{
 "cells": [
  {
   "cell_type": "code",
   "execution_count": 26,
   "id": "07039f52",
   "metadata": {},
   "outputs": [
    {
     "name": "stdout",
     "output_type": "stream",
     "text": [
      "datascience abc1"
     ]
    }
   ],
   "source": [
    "#To show documents -> shift+tab\n",
    "print('datascience','abc', end='1')"
   ]
  },
  {
   "cell_type": "code",
   "execution_count": 24,
   "id": "dcf15da9",
   "metadata": {},
   "outputs": [],
   "source": [
    "import time\n",
    "\n",
    "def count_items(items):\n",
    "    print('Counting ', end='', flush=True)\n",
    "    num = 0\n",
    "    for item in items:\n",
    "        num += 1\n",
    "        time.sleep(1)\n",
    "        print('.', end='', flush=True)\n",
    "\n",
    "    print(f'\\nThere were {num} items')"
   ]
  },
  {
   "cell_type": "markdown",
   "id": "3862c0c5",
   "metadata": {},
   "source": [
    "# 'Hello World'"
   ]
  },
  {
   "cell_type": "markdown",
   "id": "cd86d808",
   "metadata": {},
   "source": [
    "Hello"
   ]
  },
  {
   "cell_type": "code",
   "execution_count": 3,
   "id": "970ddc7d",
   "metadata": {},
   "outputs": [],
   "source": [
    "x = 10"
   ]
  },
  {
   "cell_type": "code",
   "execution_count": 5,
   "id": "3fd5638f",
   "metadata": {},
   "outputs": [],
   "source": [
    "y = 10 #shift + enter"
   ]
  },
  {
   "cell_type": "code",
   "execution_count": 6,
   "id": "659385aa",
   "metadata": {},
   "outputs": [
    {
     "name": "stdout",
     "output_type": "stream",
     "text": [
      "10\n"
     ]
    }
   ],
   "source": [
    "print(y)"
   ]
  },
  {
   "cell_type": "code",
   "execution_count": 7,
   "id": "7f9187c8",
   "metadata": {},
   "outputs": [
    {
     "data": {
      "text/plain": [
       "10"
      ]
     },
     "execution_count": 7,
     "metadata": {},
     "output_type": "execute_result"
    }
   ],
   "source": [
    "y"
   ]
  },
  {
   "cell_type": "code",
   "execution_count": 8,
   "id": "3f4340db",
   "metadata": {},
   "outputs": [
    {
     "data": {
      "text/plain": [
       "'Study Mart'"
      ]
     },
     "execution_count": 8,
     "metadata": {},
     "output_type": "execute_result"
    }
   ],
   "source": [
    "_9name = 'Study Mart'\n",
    "_9name"
   ]
  },
  {
   "cell_type": "code",
   "execution_count": 9,
   "id": "31c6972e",
   "metadata": {},
   "outputs": [
    {
     "data": {
      "text/plain": [
       "140729755969616"
      ]
     },
     "execution_count": 9,
     "metadata": {},
     "output_type": "execute_result"
    }
   ],
   "source": [
    "X = 10\n",
    "Y = 10\n",
    "id(x)"
   ]
  },
  {
   "cell_type": "code",
   "execution_count": 10,
   "id": "66f16e8f",
   "metadata": {},
   "outputs": [
    {
     "data": {
      "text/plain": [
       "140729755969936"
      ]
     },
     "execution_count": 10,
     "metadata": {},
     "output_type": "execute_result"
    }
   ],
   "source": [
    "z = 20\n",
    "id(z)"
   ]
  },
  {
   "cell_type": "code",
   "execution_count": 11,
   "id": "a3bcc6e3",
   "metadata": {},
   "outputs": [
    {
     "data": {
      "text/plain": [
       "20"
      ]
     },
     "execution_count": 11,
     "metadata": {},
     "output_type": "execute_result"
    }
   ],
   "source": [
    "z"
   ]
  },
  {
   "cell_type": "code",
   "execution_count": 12,
   "id": "7461f393",
   "metadata": {},
   "outputs": [
    {
     "data": {
      "text/plain": [
       "140729755969616"
      ]
     },
     "execution_count": 12,
     "metadata": {},
     "output_type": "execute_result"
    }
   ],
   "source": [
    "id(y)"
   ]
  },
  {
   "cell_type": "code",
   "execution_count": 13,
   "id": "6c832101",
   "metadata": {},
   "outputs": [
    {
     "data": {
      "text/plain": [
       "140729755969936"
      ]
     },
     "execution_count": 13,
     "metadata": {},
     "output_type": "execute_result"
    }
   ],
   "source": [
    "140729755969616\n",
    "140729755969616\n",
    "\n",
    "140729755969936"
   ]
  },
  {
   "cell_type": "code",
   "execution_count": 14,
   "id": "89d25c49",
   "metadata": {
    "scrolled": false
   },
   "outputs": [
    {
     "data": {
      "text/plain": [
       "30"
      ]
     },
     "execution_count": 14,
     "metadata": {},
     "output_type": "execute_result"
    }
   ],
   "source": [
    "z = 30\n",
    "z"
   ]
  },
  {
   "cell_type": "code",
   "execution_count": null,
   "id": "f2b840d5",
   "metadata": {},
   "outputs": [],
   "source": [
    "x,y,z = 20,30,50\n",
    "z"
   ]
  },
  {
   "cell_type": "code",
   "execution_count": 16,
   "id": "4b8b8b86",
   "metadata": {},
   "outputs": [
    {
     "data": {
      "text/plain": [
       "30"
      ]
     },
     "execution_count": 16,
     "metadata": {},
     "output_type": "execute_result"
    }
   ],
   "source": [
    "y"
   ]
  },
  {
   "cell_type": "code",
   "execution_count": 24,
   "id": "f07ee375",
   "metadata": {},
   "outputs": [],
   "source": [
    "x,y,z = 20,30,50"
   ]
  },
  {
   "cell_type": "markdown",
   "id": "f0233627",
   "metadata": {},
   "source": [
    "# Comments"
   ]
  },
  {
   "cell_type": "code",
   "execution_count": 25,
   "id": "1e5ba19a",
   "metadata": {},
   "outputs": [],
   "source": [
    "x = 25 # x is age"
   ]
  },
  {
   "cell_type": "code",
   "execution_count": 26,
   "id": "ea8f8202",
   "metadata": {},
   "outputs": [
    {
     "data": {
      "text/plain": [
       "25"
      ]
     },
     "execution_count": 26,
     "metadata": {},
     "output_type": "execute_result"
    }
   ],
   "source": [
    "x"
   ]
  },
  {
   "cell_type": "code",
   "execution_count": 29,
   "id": "489d1ebd",
   "metadata": {},
   "outputs": [
    {
     "data": {
      "text/plain": [
       "'comment'"
      ]
     },
     "execution_count": 29,
     "metadata": {},
     "output_type": "execute_result"
    }
   ],
   "source": [
    "'''100000'''"
   ]
  },
  {
   "cell_type": "code",
   "execution_count": 31,
   "id": "8cb99340",
   "metadata": {},
   "outputs": [
    {
     "data": {
      "text/plain": [
       "str"
      ]
     },
     "execution_count": 31,
     "metadata": {},
     "output_type": "execute_result"
    }
   ],
   "source": [
    "type('''10000''')"
   ]
  },
  {
   "cell_type": "code",
   "execution_count": 32,
   "id": "4288cd2e",
   "metadata": {},
   "outputs": [
    {
     "data": {
      "text/plain": [
       "'100'"
      ]
     },
     "execution_count": 32,
     "metadata": {},
     "output_type": "execute_result"
    }
   ],
   "source": [
    "'100'"
   ]
  },
  {
   "cell_type": "code",
   "execution_count": 33,
   "id": "081aeb7c",
   "metadata": {},
   "outputs": [
    {
     "data": {
      "text/plain": [
       "'10000'"
      ]
     },
     "execution_count": 33,
     "metadata": {},
     "output_type": "execute_result"
    }
   ],
   "source": [
    "\"10000\""
   ]
  },
  {
   "cell_type": "code",
   "execution_count": 35,
   "id": "e50443df",
   "metadata": {},
   "outputs": [
    {
     "data": {
      "text/plain": [
       "'\\n300000\\n'"
      ]
     },
     "execution_count": 35,
     "metadata": {},
     "output_type": "execute_result"
    }
   ],
   "source": [
    "'''300000'''"
   ]
  },
  {
   "cell_type": "code",
   "execution_count": 38,
   "id": "8c837f58",
   "metadata": {},
   "outputs": [
    {
     "data": {
      "text/plain": [
       "str"
      ]
     },
     "execution_count": 38,
     "metadata": {},
     "output_type": "execute_result"
    }
   ],
   "source": [
    "name = \"Sayed Vaia\" #student name\n",
    "type(name)"
   ]
  },
  {
   "cell_type": "code",
   "execution_count": 39,
   "id": "e27712a8",
   "metadata": {},
   "outputs": [],
   "source": [
    "age = 20"
   ]
  },
  {
   "cell_type": "code",
   "execution_count": 41,
   "id": "cc153ecd",
   "metadata": {},
   "outputs": [
    {
     "data": {
      "text/plain": [
       "500"
      ]
     },
     "execution_count": 41,
     "metadata": {},
     "output_type": "execute_result"
    }
   ],
   "source": [
    "age*x"
   ]
  },
  {
   "cell_type": "code",
   "execution_count": 43,
   "id": "79f529aa",
   "metadata": {},
   "outputs": [
    {
     "data": {
      "text/plain": [
       "list"
      ]
     },
     "execution_count": 43,
     "metadata": {},
     "output_type": "execute_result"
    }
   ],
   "source": [
    "'''\n",
    "camelCase\n",
    "PascalCase\n",
    "sanke_case\n",
    "'''\n",
    "\n",
    "student_name = ['sayed','robi'] #snake case\n",
    "student_name\n",
    "type(student_name)\n",
    "\n",
    "\n",
    "\n"
   ]
  },
  {
   "cell_type": "markdown",
   "id": "5286113b",
   "metadata": {},
   "source": [
    "# String Formating"
   ]
  },
  {
   "cell_type": "code",
   "execution_count": 23,
   "id": "d3e4b89b",
   "metadata": {},
   "outputs": [
    {
     "name": "stdout",
     "output_type": "stream",
     "text": [
      "I HAVE 10 ok\n"
     ]
    }
   ],
   "source": [
    "x = 10\n",
    "print('I HAVE '+str(x)+' ok')"
   ]
  },
  {
   "cell_type": "code",
   "execution_count": 48,
   "id": "ded57586",
   "metadata": {},
   "outputs": [
    {
     "name": "stdout",
     "output_type": "stream",
     "text": [
      "I HAVE 3.0 taka\n"
     ]
    }
   ],
   "source": [
    "x = 10\n",
    "y = 30\n",
    "z=y/x\n",
    "\n",
    "print('I HAVE {} taka'.format(z))"
   ]
  },
  {
   "cell_type": "markdown",
   "id": "e21882e8",
   "metadata": {},
   "source": [
    "# Global vs Local"
   ]
  },
  {
   "cell_type": "code",
   "execution_count": 57,
   "id": "fa068766",
   "metadata": {},
   "outputs": [
    {
     "name": "stdout",
     "output_type": "stream",
     "text": [
      "ai\n",
      "data sciece\n"
     ]
    }
   ],
   "source": [
    "#x = 'data sciece' #global\n",
    "def myfunction():\n",
    "    #code\n",
    "    x = 'ai' # local\n",
    "    print(x)\n",
    "myfunction()\n",
    "\n",
    "def myfunction2():\n",
    "    print(x)\n",
    "myfunction2()"
   ]
  },
  {
   "cell_type": "code",
   "execution_count": 58,
   "id": "92abc4a0",
   "metadata": {},
   "outputs": [
    {
     "name": "stdout",
     "output_type": "stream",
     "text": [
      "ai\n",
      "data sciece\n"
     ]
    }
   ],
   "source": [
    "#x = 'data sciece' #global\n",
    "def myfunction():\n",
    "    #code\n",
    "    x = 'ai' # local\n",
    "    print(x)\n",
    "myfunction()\n",
    "\n",
    "def myfunction2():\n",
    "    print(x)\n",
    "myfunction2()"
   ]
  },
  {
   "cell_type": "markdown",
   "id": "d9a4d6c3",
   "metadata": {},
   "source": [
    "# string concat"
   ]
  },
  {
   "cell_type": "code",
   "execution_count": 60,
   "id": "4d67bcbc",
   "metadata": {},
   "outputs": [],
   "source": [
    "s1 = 'Full Name : '\n",
    "s2 = 'Faisal Ahmed'"
   ]
  },
  {
   "cell_type": "code",
   "execution_count": 61,
   "id": "0cdc8046",
   "metadata": {},
   "outputs": [
    {
     "data": {
      "text/plain": [
       "'Full Name : Faisal Ahmed'"
      ]
     },
     "execution_count": 61,
     "metadata": {},
     "output_type": "execute_result"
    }
   ],
   "source": [
    "s1+s2 #string concat"
   ]
  },
  {
   "cell_type": "markdown",
   "id": "15ac03a1",
   "metadata": {},
   "source": [
    "# Input Functon"
   ]
  },
  {
   "cell_type": "code",
   "execution_count": 62,
   "id": "458968f4",
   "metadata": {},
   "outputs": [
    {
     "name": "stdout",
     "output_type": "stream",
     "text": [
      "5\n",
      "3\n"
     ]
    },
    {
     "data": {
      "text/plain": [
       "'53'"
      ]
     },
     "execution_count": 62,
     "metadata": {},
     "output_type": "execute_result"
    }
   ],
   "source": [
    "x = input()\n",
    "y = input()\n",
    "z = x+y\n",
    "z"
   ]
  },
  {
   "cell_type": "code",
   "execution_count": 63,
   "id": "a9eeb759",
   "metadata": {},
   "outputs": [
    {
     "data": {
      "text/plain": [
       "str"
      ]
     },
     "execution_count": 63,
     "metadata": {},
     "output_type": "execute_result"
    }
   ],
   "source": [
    "type(z)"
   ]
  },
  {
   "cell_type": "code",
   "execution_count": 68,
   "id": "e517e010",
   "metadata": {},
   "outputs": [
    {
     "name": "stdout",
     "output_type": "stream",
     "text": [
      "Enter your first num: 5\n",
      "Enter your 2nd num: 5\n"
     ]
    },
    {
     "data": {
      "text/plain": [
       "10.0"
      ]
     },
     "execution_count": 68,
     "metadata": {},
     "output_type": "execute_result"
    }
   ],
   "source": [
    "x = int(input('Enter your first num: '))\n",
    "y = float(input('Enter your 2nd num: '))\n",
    "z = x+y\n",
    "z"
   ]
  },
  {
   "cell_type": "markdown",
   "id": "ef5774b4",
   "metadata": {},
   "source": [
    "# Condition: if, elif, else"
   ]
  },
  {
   "cell_type": "code",
   "execution_count": 72,
   "id": "d93956e1",
   "metadata": {},
   "outputs": [
    {
     "name": "stdout",
     "output_type": "stream",
     "text": [
      "100\n"
     ]
    }
   ],
   "source": [
    "x = 100\n",
    "\n",
    "if x>105:\n",
    "    print(x)\n",
    "\n",
    "elif(x>50): # else if\n",
    "    print(x)\n",
    "    \n",
    "else:\n",
    "    print('Stop')"
   ]
  },
  {
   "cell_type": "markdown",
   "id": "33c689a0",
   "metadata": {},
   "source": [
    "# for loop"
   ]
  },
  {
   "cell_type": "code",
   "execution_count": 87,
   "id": "f29c7571",
   "metadata": {},
   "outputs": [
    {
     "name": "stdout",
     "output_type": "stream",
     "text": [
      "1\n",
      "6\n"
     ]
    }
   ],
   "source": [
    "for x in range(1,10,5): #n-1\n",
    "    print(x)"
   ]
  },
  {
   "cell_type": "code",
   "execution_count": 90,
   "id": "539056c5",
   "metadata": {},
   "outputs": [
    {
     "name": "stdout",
     "output_type": "stream",
     "text": [
      "1\n",
      "11\n",
      "21\n",
      "31\n",
      "41\n",
      "51\n",
      "61\n",
      "71\n",
      "81\n",
      "91\n"
     ]
    }
   ],
   "source": [
    "i = 1\n",
    "while i<100:\n",
    "    print(i)\n",
    "    i = i+10"
   ]
  },
  {
   "cell_type": "markdown",
   "id": "8268b15f",
   "metadata": {},
   "source": [
    "# Data Structure: List"
   ]
  },
  {
   "cell_type": "code",
   "execution_count": 91,
   "id": "953eb104",
   "metadata": {},
   "outputs": [
    {
     "data": {
      "text/plain": [
       "[1, 2, 3, 4, 5, 6]"
      ]
     },
     "execution_count": 91,
     "metadata": {},
     "output_type": "execute_result"
    }
   ],
   "source": [
    "l1 = [1,2,3,4,5,6] #list\n",
    "l1"
   ]
  },
  {
   "cell_type": "code",
   "execution_count": 92,
   "id": "74364256",
   "metadata": {},
   "outputs": [
    {
     "data": {
      "text/plain": [
       "list"
      ]
     },
     "execution_count": 92,
     "metadata": {},
     "output_type": "execute_result"
    }
   ],
   "source": [
    "type(l1)"
   ]
  },
  {
   "cell_type": "code",
   "execution_count": 94,
   "id": "0b3f63ac",
   "metadata": {},
   "outputs": [
    {
     "data": {
      "text/plain": [
       "104"
      ]
     },
     "execution_count": 94,
     "metadata": {},
     "output_type": "execute_result"
    }
   ],
   "source": [
    "import sys\n",
    "sys.getsizeof(l1)"
   ]
  },
  {
   "cell_type": "code",
   "execution_count": 99,
   "id": "34e9f60e",
   "metadata": {},
   "outputs": [
    {
     "data": {
      "text/plain": [
       "28"
      ]
     },
     "execution_count": 99,
     "metadata": {},
     "output_type": "execute_result"
    }
   ],
   "source": [
    "x = 1000000000\n",
    "sys.getsizeof(x)"
   ]
  },
  {
   "cell_type": "code",
   "execution_count": 100,
   "id": "bb64c1d5",
   "metadata": {},
   "outputs": [
    {
     "data": {
      "text/plain": [
       "[1, 2, 3, 4, 5, 6, 'data', True, False, [1, 2, 3], (10, 20)]"
      ]
     },
     "execution_count": 100,
     "metadata": {},
     "output_type": "execute_result"
    }
   ],
   "source": [
    "l1 = [1,2,3,4,5,6,'data',True,False,[1,2,3],(10,20)] #list\n",
    "l1"
   ]
  },
  {
   "cell_type": "code",
   "execution_count": 101,
   "id": "c070c54b",
   "metadata": {},
   "outputs": [
    {
     "data": {
      "text/plain": [
       "'data'"
      ]
     },
     "execution_count": 101,
     "metadata": {},
     "output_type": "execute_result"
    }
   ],
   "source": [
    "l1[6]"
   ]
  },
  {
   "cell_type": "code",
   "execution_count": 107,
   "id": "d5a01b1f",
   "metadata": {},
   "outputs": [
    {
     "data": {
      "text/plain": [
       "1"
      ]
     },
     "execution_count": 107,
     "metadata": {},
     "output_type": "execute_result"
    }
   ],
   "source": [
    "l1[9][0]"
   ]
  },
  {
   "cell_type": "code",
   "execution_count": 105,
   "id": "2f06f03b",
   "metadata": {},
   "outputs": [
    {
     "data": {
      "text/plain": [
       "[1, 2, 3, 4]"
      ]
     },
     "execution_count": 105,
     "metadata": {},
     "output_type": "execute_result"
    }
   ],
   "source": [
    "l1[0:4]"
   ]
  },
  {
   "cell_type": "code",
   "execution_count": 109,
   "id": "ece902d5",
   "metadata": {},
   "outputs": [
    {
     "data": {
      "text/plain": [
       "'data'"
      ]
     },
     "execution_count": 109,
     "metadata": {},
     "output_type": "execute_result"
    }
   ],
   "source": [
    "l1[-5]"
   ]
  },
  {
   "cell_type": "code",
   "execution_count": 110,
   "id": "4dee2f9f",
   "metadata": {},
   "outputs": [
    {
     "data": {
      "text/plain": [
       "[1, 2, 3, 3, 4, 4, 5, 6, 'data', True, False, [1, 2, 3], (10, 20)]"
      ]
     },
     "execution_count": 110,
     "metadata": {},
     "output_type": "execute_result"
    }
   ],
   "source": [
    "l1 = [1,2,3,3,4,4,5,6,'data',True,False,[1,2,3],(10,20)] #list\n",
    "l1"
   ]
  },
  {
   "cell_type": "code",
   "execution_count": 111,
   "id": "d1b202aa",
   "metadata": {},
   "outputs": [],
   "source": [
    "l1[6] = 'ai'"
   ]
  },
  {
   "cell_type": "code",
   "execution_count": 112,
   "id": "b7e72a83",
   "metadata": {},
   "outputs": [
    {
     "data": {
      "text/plain": [
       "[1, 2, 3, 3, 4, 4, 'ai', 6, 'data', True, False, [1, 2, 3], (10, 20)]"
      ]
     },
     "execution_count": 112,
     "metadata": {},
     "output_type": "execute_result"
    }
   ],
   "source": [
    "l1"
   ]
  },
  {
   "cell_type": "code",
   "execution_count": 113,
   "id": "f4957006",
   "metadata": {},
   "outputs": [],
   "source": [
    "l1.append('tareq')"
   ]
  },
  {
   "cell_type": "code",
   "execution_count": 114,
   "id": "765148ea",
   "metadata": {},
   "outputs": [
    {
     "data": {
      "text/plain": [
       "[1, 2, 3, 3, 4, 4, 'ai', 6, 'data', True, False, [1, 2, 3], (10, 20), 'tareq']"
      ]
     },
     "execution_count": 114,
     "metadata": {},
     "output_type": "execute_result"
    }
   ],
   "source": [
    "l1"
   ]
  },
  {
   "cell_type": "code",
   "execution_count": 115,
   "id": "1bf8aee1",
   "metadata": {},
   "outputs": [],
   "source": [
    "l1.insert(6,'jacky')"
   ]
  },
  {
   "cell_type": "code",
   "execution_count": 116,
   "id": "2e3b311f",
   "metadata": {},
   "outputs": [
    {
     "data": {
      "text/plain": [
       "[1,\n",
       " 2,\n",
       " 3,\n",
       " 3,\n",
       " 4,\n",
       " 4,\n",
       " 'jacky',\n",
       " 'ai',\n",
       " 6,\n",
       " 'data',\n",
       " True,\n",
       " False,\n",
       " [1, 2, 3],\n",
       " (10, 20),\n",
       " 'tareq']"
      ]
     },
     "execution_count": 116,
     "metadata": {},
     "output_type": "execute_result"
    }
   ],
   "source": [
    "l1"
   ]
  },
  {
   "cell_type": "code",
   "execution_count": 117,
   "id": "4d4f5803",
   "metadata": {},
   "outputs": [
    {
     "data": {
      "text/plain": [
       "'jacky'"
      ]
     },
     "execution_count": 117,
     "metadata": {},
     "output_type": "execute_result"
    }
   ],
   "source": [
    "l1.pop(6)"
   ]
  },
  {
   "cell_type": "code",
   "execution_count": 118,
   "id": "89db6588",
   "metadata": {},
   "outputs": [
    {
     "data": {
      "text/plain": [
       "[1, 2, 3, 3, 4, 4, 'ai', 6, 'data', True, False, [1, 2, 3], (10, 20), 'tareq']"
      ]
     },
     "execution_count": 118,
     "metadata": {},
     "output_type": "execute_result"
    }
   ],
   "source": [
    "l1"
   ]
  },
  {
   "cell_type": "code",
   "execution_count": 119,
   "id": "f003e1fa",
   "metadata": {},
   "outputs": [],
   "source": [
    "del l1[6]"
   ]
  },
  {
   "cell_type": "code",
   "execution_count": 120,
   "id": "5b83051a",
   "metadata": {},
   "outputs": [
    {
     "data": {
      "text/plain": [
       "[1, 2, 3, 3, 4, 4, 6, 'data', True, False, [1, 2, 3], (10, 20), 'tareq']"
      ]
     },
     "execution_count": 120,
     "metadata": {},
     "output_type": "execute_result"
    }
   ],
   "source": [
    "l1"
   ]
  },
  {
   "cell_type": "code",
   "execution_count": 121,
   "id": "1baeb373",
   "metadata": {},
   "outputs": [],
   "source": [
    "l1.clear()"
   ]
  },
  {
   "cell_type": "code",
   "execution_count": 122,
   "id": "a7ca0413",
   "metadata": {},
   "outputs": [
    {
     "data": {
      "text/plain": [
       "[]"
      ]
     },
     "execution_count": 122,
     "metadata": {},
     "output_type": "execute_result"
    }
   ],
   "source": [
    "l1"
   ]
  },
  {
   "cell_type": "code",
   "execution_count": null,
   "id": "d5981665",
   "metadata": {},
   "outputs": [],
   "source": []
  }
 ],
 "metadata": {
  "kernelspec": {
   "display_name": "Python 3",
   "language": "python",
   "name": "python3"
  },
  "language_info": {
   "codemirror_mode": {
    "name": "ipython",
    "version": 3
   },
   "file_extension": ".py",
   "mimetype": "text/x-python",
   "name": "python",
   "nbconvert_exporter": "python",
   "pygments_lexer": "ipython3",
   "version": "3.8.8"
  }
 },
 "nbformat": 4,
 "nbformat_minor": 5
}
