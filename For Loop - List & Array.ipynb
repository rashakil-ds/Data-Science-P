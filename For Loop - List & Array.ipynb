{
 "cells": [
  {
   "cell_type": "code",
   "execution_count": null,
   "id": "191b0a05",
   "metadata": {},
   "outputs": [],
   "source": [
    "list1 = [1,3,7,'data'] #List\n",
    "\n",
    "for i in range(len(list1)):\n",
    "    if(list1[i]) == 1:\n",
    "        print(list1[i])"
   ]
  },
  {
   "cell_type": "code",
   "execution_count": null,
   "id": "0a22777c",
   "metadata": {},
   "outputs": [],
   "source": [
    "l1 = [] # Input List\n",
    "n = int(input('Enter Number of Element: '))\n",
    "for i in range(0,n):\n",
    "    new_val = int(input())\n",
    "    l1.append(new_val)\n",
    "print(l1)"
   ]
  },
  {
   "cell_type": "code",
   "execution_count": null,
   "id": "2dbaf13e",
   "metadata": {},
   "outputs": [],
   "source": [
    "import array as ar\n",
    "n2 = ar.array('i',[]) # Input Array\n",
    "items = int(input('Enter Number of Element: '))\n",
    "for x in range(0,items):\n",
    "    new2 = int(input())\n",
    "    n2.append(new2)\n",
    "print(n2)"
   ]
  },
  {
   "cell_type": "code",
   "execution_count": null,
   "id": "56192afd",
   "metadata": {},
   "outputs": [],
   "source": []
  }
 ],
 "metadata": {
  "kernelspec": {
   "display_name": "Python 3",
   "language": "python",
   "name": "python3"
  },
  "language_info": {
   "codemirror_mode": {
    "name": "ipython",
    "version": 3
   },
   "file_extension": ".py",
   "mimetype": "text/x-python",
   "name": "python",
   "nbconvert_exporter": "python",
   "pygments_lexer": "ipython3",
   "version": "3.8.8"
  }
 },
 "nbformat": 4,
 "nbformat_minor": 5
}
