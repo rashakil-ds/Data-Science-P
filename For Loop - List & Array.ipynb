{
 "cells": [
  {
   "cell_type": "code",
   "execution_count": 1,
   "id": "191b0a05",
   "metadata": {},
   "outputs": [
    {
     "name": "stdout",
     "output_type": "stream",
     "text": [
      "1\n"
     ]
    }
   ],
   "source": [
    "list1 = [1,3,7,'data'] #List\n",
    "for i in range(len(list1)):\n",
    "    if(list1[i]) == 1:\n",
    "        print(list1[i])"
   ]
  },
  {
   "cell_type": "code",
   "execution_count": 2,
   "id": "5f1bcc82",
   "metadata": {},
   "outputs": [
    {
     "name": "stdout",
     "output_type": "stream",
     "text": [
      "Enter Number of Element: 2\n",
      "1\n",
      "6\n",
      "[1, 6]\n"
     ]
    }
   ],
   "source": [
    "l1 = [] # Input List\n",
    "n = int(input('Enter Number of Element: '))\n",
    "for i in range(n):\n",
    "    new_val = int(input())\n",
    "    l1.append(new_val)\n",
    "print(l1)"
   ]
  },
  {
   "cell_type": "code",
   "execution_count": 3,
   "id": "e48e7660",
   "metadata": {},
   "outputs": [
    {
     "name": "stdout",
     "output_type": "stream",
     "text": [
      "Enter Number of Element: 6\n",
      "1\n",
      "2\n",
      "5\n",
      "7\n",
      "8\n",
      "9\n",
      "array('i', [1, 2, 5, 7, 8, 9])\n"
     ]
    }
   ],
   "source": [
    "import array as ar\n",
    "n2 = ar.array('i',[]) # Input Array\n",
    "items = int(input('Enter Number of Element: '))\n",
    "for x in range(items):\n",
    "    new2 = int(input())\n",
    "    n2.append(new2)\n",
    "print(n2)"
   ]
  },
  {
   "cell_type": "code",
   "execution_count": 1,
   "id": "16fbc1d2",
   "metadata": {},
   "outputs": [
    {
     "name": "stdout",
     "output_type": "stream",
     "text": [
      "enter a n value:3\n",
      "1\n",
      "2\n",
      "3\n",
      "3\n",
      "4\n",
      "5\n",
      "{'1': 2, '3': 3, '4': 5}\n"
     ]
    }
   ],
   "source": [
    "n = int(input(\"enter a n value:\"))\n",
    "d = {}\n",
    "for i in range(n):\n",
    "    keys = input()  # here i have taken keys as strings\n",
    "    values = int(input())  # here i have taken values as integers\n",
    "    d[keys] = values\n",
    "print(d)"
   ]
  },
  {
   "cell_type": "code",
   "execution_count": 2,
   "id": "28103c05",
   "metadata": {},
   "outputs": [
    {
     "data": {
      "text/plain": [
       "dict"
      ]
     },
     "execution_count": 2,
     "metadata": {},
     "output_type": "execute_result"
    }
   ],
   "source": [
    "type(d)"
   ]
  },
  {
   "cell_type": "code",
   "execution_count": null,
   "id": "2107dbd6",
   "metadata": {},
   "outputs": [],
   "source": []
  }
 ],
 "metadata": {
  "kernelspec": {
   "display_name": "Python 3",
   "language": "python",
   "name": "python3"
  },
  "language_info": {
   "codemirror_mode": {
    "name": "ipython",
    "version": 3
   },
   "file_extension": ".py",
   "mimetype": "text/x-python",
   "name": "python",
   "nbconvert_exporter": "python",
   "pygments_lexer": "ipython3",
   "version": "3.8.8"
  }
 },
 "nbformat": 4,
 "nbformat_minor": 5
}
